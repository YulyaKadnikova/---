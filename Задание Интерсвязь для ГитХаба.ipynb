{
 "cells": [jj
  {
   "cell_type": "markdown",
   "metadata": {},
   "source": [
    "# Imports"
   ]
  },
  {
   "cell_type": "code",
   "execution_count": 1,
   "metadata": {},
   "outputs": [],
   "source": [
    "import pandas as pd"
   ]
  },
  {
   "cell_type": "markdown",
   "metadata": {},
   "source": [
    "# Constans"
   ]
  },
  {
   "cell_type": "code",
   "execution_count": 2,
   "metadata": {},
   "outputs": [],
   "source": [
    "#other constants.\n",
    "HEAD_ROWS_TO_SHOW = 15"
   ]
  },
  {
   "cell_type": "markdown",
   "metadata": {},
   "source": [
    "# Data load"
   ]
  },
  {
   "cell_type": "code",
   "execution_count": 3,
   "metadata": {
    "scrolled": false
   },
   "outputs": [
    {
     "data": {
      "text/html": [
       "<div>\n",
       "<style scoped>\n",
       "    .dataframe tbody tr th:only-of-type {\n",
       "        vertical-align: middle;\n",
       "    }\n",
       "\n",
       "    .dataframe tbody tr th {\n",
       "        vertical-align: top;\n",
       "    }\n",
       "\n",
       "    .dataframe thead th {\n",
       "        text-align: right;\n",
       "    }\n",
       "</style>\n",
       "<table border=\"1\" class=\"dataframe\">\n",
       "  <thead>\n",
       "    <tr style=\"text-align: right;\">\n",
       "      <th></th>\n",
       "      <th>Unnamed: 0</th>\n",
       "      <th>user_id</th>\n",
       "      <th>device_id</th>\n",
       "      <th>event_date</th>\n",
       "      <th>track_id</th>\n",
       "    </tr>\n",
       "  </thead>\n",
       "  <tbody>\n",
       "    <tr>\n",
       "      <th>0</th>\n",
       "      <td>0</td>\n",
       "      <td>301766</td>\n",
       "      <td>555a04204e85a34b</td>\n",
       "      <td>2019-10-31 04:24:36</td>\n",
       "      <td>10</td>\n",
       "    </tr>\n",
       "    <tr>\n",
       "      <th>1</th>\n",
       "      <td>1</td>\n",
       "      <td>7599993</td>\n",
       "      <td>341a3dd038c9f962</td>\n",
       "      <td>2019-10-31 04:24:50</td>\n",
       "      <td>10</td>\n",
       "    </tr>\n",
       "    <tr>\n",
       "      <th>2</th>\n",
       "      <td>2</td>\n",
       "      <td>26828853</td>\n",
       "      <td>463BAFCE-3E8B-499A-8B93-1AD693CC5749</td>\n",
       "      <td>2019-10-31 04:24:54</td>\n",
       "      <td>10</td>\n",
       "    </tr>\n",
       "    <tr>\n",
       "      <th>3</th>\n",
       "      <td>3</td>\n",
       "      <td>301766</td>\n",
       "      <td>555a04204e85a34b</td>\n",
       "      <td>2019-10-31 04:25:05</td>\n",
       "      <td>10</td>\n",
       "    </tr>\n",
       "    <tr>\n",
       "      <th>4</th>\n",
       "      <td>4</td>\n",
       "      <td>20736809</td>\n",
       "      <td>21c2843aeef5931d</td>\n",
       "      <td>2019-10-31 04:25:07</td>\n",
       "      <td>10</td>\n",
       "    </tr>\n",
       "    <tr>\n",
       "      <th>5</th>\n",
       "      <td>5</td>\n",
       "      <td>7599993</td>\n",
       "      <td>341a3dd038c9f962</td>\n",
       "      <td>2019-10-31 04:25:22</td>\n",
       "      <td>10</td>\n",
       "    </tr>\n",
       "    <tr>\n",
       "      <th>6</th>\n",
       "      <td>6</td>\n",
       "      <td>26828853</td>\n",
       "      <td>463BAFCE-3E8B-499A-8B93-1AD693CC5749</td>\n",
       "      <td>2019-10-31 04:25:31</td>\n",
       "      <td>10</td>\n",
       "    </tr>\n",
       "    <tr>\n",
       "      <th>7</th>\n",
       "      <td>7</td>\n",
       "      <td>26828853</td>\n",
       "      <td>463BAFCE-3E8B-499A-8B93-1AD693CC5749</td>\n",
       "      <td>2019-10-31 04:25:49</td>\n",
       "      <td>10</td>\n",
       "    </tr>\n",
       "    <tr>\n",
       "      <th>8</th>\n",
       "      <td>8</td>\n",
       "      <td>26828853</td>\n",
       "      <td>463BAFCE-3E8B-499A-8B93-1AD693CC5749</td>\n",
       "      <td>2019-10-31 04:25:57</td>\n",
       "      <td>10</td>\n",
       "    </tr>\n",
       "    <tr>\n",
       "      <th>9</th>\n",
       "      <td>9</td>\n",
       "      <td>26828853</td>\n",
       "      <td>463BAFCE-3E8B-499A-8B93-1AD693CC5749</td>\n",
       "      <td>2019-10-31 04:26:37</td>\n",
       "      <td>10</td>\n",
       "    </tr>\n",
       "    <tr>\n",
       "      <th>10</th>\n",
       "      <td>10</td>\n",
       "      <td>26828853</td>\n",
       "      <td>463BAFCE-3E8B-499A-8B93-1AD693CC5749</td>\n",
       "      <td>2019-10-31 04:26:53</td>\n",
       "      <td>10</td>\n",
       "    </tr>\n",
       "    <tr>\n",
       "      <th>11</th>\n",
       "      <td>11</td>\n",
       "      <td>27072297</td>\n",
       "      <td>2e8cf41aa723a041</td>\n",
       "      <td>2019-10-31 04:27:15</td>\n",
       "      <td>10</td>\n",
       "    </tr>\n",
       "    <tr>\n",
       "      <th>12</th>\n",
       "      <td>12</td>\n",
       "      <td>26828853</td>\n",
       "      <td>463BAFCE-3E8B-499A-8B93-1AD693CC5749</td>\n",
       "      <td>2019-10-31 04:27:16</td>\n",
       "      <td>10</td>\n",
       "    </tr>\n",
       "    <tr>\n",
       "      <th>13</th>\n",
       "      <td>13</td>\n",
       "      <td>27072297</td>\n",
       "      <td>2e8cf41aa723a041</td>\n",
       "      <td>2019-10-31 04:27:23</td>\n",
       "      <td>10</td>\n",
       "    </tr>\n",
       "    <tr>\n",
       "      <th>14</th>\n",
       "      <td>14</td>\n",
       "      <td>706471</td>\n",
       "      <td>6b82750c0758837f</td>\n",
       "      <td>2019-10-31 04:27:54</td>\n",
       "      <td>10</td>\n",
       "    </tr>\n",
       "  </tbody>\n",
       "</table>\n",
       "</div>"
      ],
      "text/plain": [
       "    Unnamed: 0   user_id                             device_id  \\\n",
       "0            0    301766                      555a04204e85a34b   \n",
       "1            1   7599993                      341a3dd038c9f962   \n",
       "2            2  26828853  463BAFCE-3E8B-499A-8B93-1AD693CC5749   \n",
       "3            3    301766                      555a04204e85a34b   \n",
       "4            4  20736809                      21c2843aeef5931d   \n",
       "5            5   7599993                      341a3dd038c9f962   \n",
       "6            6  26828853  463BAFCE-3E8B-499A-8B93-1AD693CC5749   \n",
       "7            7  26828853  463BAFCE-3E8B-499A-8B93-1AD693CC5749   \n",
       "8            8  26828853  463BAFCE-3E8B-499A-8B93-1AD693CC5749   \n",
       "9            9  26828853  463BAFCE-3E8B-499A-8B93-1AD693CC5749   \n",
       "10          10  26828853  463BAFCE-3E8B-499A-8B93-1AD693CC5749   \n",
       "11          11  27072297                      2e8cf41aa723a041   \n",
       "12          12  26828853  463BAFCE-3E8B-499A-8B93-1AD693CC5749   \n",
       "13          13  27072297                      2e8cf41aa723a041   \n",
       "14          14    706471                      6b82750c0758837f   \n",
       "\n",
       "             event_date  track_id  \n",
       "0   2019-10-31 04:24:36        10  \n",
       "1   2019-10-31 04:24:50        10  \n",
       "2   2019-10-31 04:24:54        10  \n",
       "3   2019-10-31 04:25:05        10  \n",
       "4   2019-10-31 04:25:07        10  \n",
       "5   2019-10-31 04:25:22        10  \n",
       "6   2019-10-31 04:25:31        10  \n",
       "7   2019-10-31 04:25:49        10  \n",
       "8   2019-10-31 04:25:57        10  \n",
       "9   2019-10-31 04:26:37        10  \n",
       "10  2019-10-31 04:26:53        10  \n",
       "11  2019-10-31 04:27:15        10  \n",
       "12  2019-10-31 04:27:16        10  \n",
       "13  2019-10-31 04:27:23        10  \n",
       "14  2019-10-31 04:27:54        10  "
      ]
     },
     "execution_count": 3,
     "metadata": {},
     "output_type": "execute_result"
    }
   ],
   "source": [
    "df = pd.read_csv('logs_mp_october_test_task.csv')\n",
    "df[:HEAD_ROWS_TO_SHOW]"
   ]
  },
  {
   "cell_type": "code",
   "execution_count": 4,
   "metadata": {
    "scrolled": true
   },
   "outputs": [
    {
     "data": {
      "text/html": [
       "<div>\n",
       "<style scoped>\n",
       "    .dataframe tbody tr th:only-of-type {\n",
       "        vertical-align: middle;\n",
       "    }\n",
       "\n",
       "    .dataframe tbody tr th {\n",
       "        vertical-align: top;\n",
       "    }\n",
       "\n",
       "    .dataframe thead th {\n",
       "        text-align: right;\n",
       "    }\n",
       "</style>\n",
       "<table border=\"1\" class=\"dataframe\">\n",
       "  <thead>\n",
       "    <tr style=\"text-align: right;\">\n",
       "      <th></th>\n",
       "      <th>user_id</th>\n",
       "      <th>device_id</th>\n",
       "      <th>event_date</th>\n",
       "      <th>track_id</th>\n",
       "    </tr>\n",
       "  </thead>\n",
       "  <tbody>\n",
       "    <tr>\n",
       "      <th>0</th>\n",
       "      <td>301766</td>\n",
       "      <td>555a04204e85a34b</td>\n",
       "      <td>2019-10-31 04:24:36</td>\n",
       "      <td>10</td>\n",
       "    </tr>\n",
       "    <tr>\n",
       "      <th>1</th>\n",
       "      <td>7599993</td>\n",
       "      <td>341a3dd038c9f962</td>\n",
       "      <td>2019-10-31 04:24:50</td>\n",
       "      <td>10</td>\n",
       "    </tr>\n",
       "    <tr>\n",
       "      <th>2</th>\n",
       "      <td>26828853</td>\n",
       "      <td>463BAFCE-3E8B-499A-8B93-1AD693CC5749</td>\n",
       "      <td>2019-10-31 04:24:54</td>\n",
       "      <td>10</td>\n",
       "    </tr>\n",
       "    <tr>\n",
       "      <th>3</th>\n",
       "      <td>301766</td>\n",
       "      <td>555a04204e85a34b</td>\n",
       "      <td>2019-10-31 04:25:05</td>\n",
       "      <td>10</td>\n",
       "    </tr>\n",
       "    <tr>\n",
       "      <th>4</th>\n",
       "      <td>20736809</td>\n",
       "      <td>21c2843aeef5931d</td>\n",
       "      <td>2019-10-31 04:25:07</td>\n",
       "      <td>10</td>\n",
       "    </tr>\n",
       "    <tr>\n",
       "      <th>5</th>\n",
       "      <td>7599993</td>\n",
       "      <td>341a3dd038c9f962</td>\n",
       "      <td>2019-10-31 04:25:22</td>\n",
       "      <td>10</td>\n",
       "    </tr>\n",
       "    <tr>\n",
       "      <th>6</th>\n",
       "      <td>26828853</td>\n",
       "      <td>463BAFCE-3E8B-499A-8B93-1AD693CC5749</td>\n",
       "      <td>2019-10-31 04:25:31</td>\n",
       "      <td>10</td>\n",
       "    </tr>\n",
       "    <tr>\n",
       "      <th>7</th>\n",
       "      <td>26828853</td>\n",
       "      <td>463BAFCE-3E8B-499A-8B93-1AD693CC5749</td>\n",
       "      <td>2019-10-31 04:25:49</td>\n",
       "      <td>10</td>\n",
       "    </tr>\n",
       "    <tr>\n",
       "      <th>8</th>\n",
       "      <td>26828853</td>\n",
       "      <td>463BAFCE-3E8B-499A-8B93-1AD693CC5749</td>\n",
       "      <td>2019-10-31 04:25:57</td>\n",
       "      <td>10</td>\n",
       "    </tr>\n",
       "    <tr>\n",
       "      <th>9</th>\n",
       "      <td>26828853</td>\n",
       "      <td>463BAFCE-3E8B-499A-8B93-1AD693CC5749</td>\n",
       "      <td>2019-10-31 04:26:37</td>\n",
       "      <td>10</td>\n",
       "    </tr>\n",
       "    <tr>\n",
       "      <th>10</th>\n",
       "      <td>26828853</td>\n",
       "      <td>463BAFCE-3E8B-499A-8B93-1AD693CC5749</td>\n",
       "      <td>2019-10-31 04:26:53</td>\n",
       "      <td>10</td>\n",
       "    </tr>\n",
       "    <tr>\n",
       "      <th>11</th>\n",
       "      <td>27072297</td>\n",
       "      <td>2e8cf41aa723a041</td>\n",
       "      <td>2019-10-31 04:27:15</td>\n",
       "      <td>10</td>\n",
       "    </tr>\n",
       "    <tr>\n",
       "      <th>12</th>\n",
       "      <td>26828853</td>\n",
       "      <td>463BAFCE-3E8B-499A-8B93-1AD693CC5749</td>\n",
       "      <td>2019-10-31 04:27:16</td>\n",
       "      <td>10</td>\n",
       "    </tr>\n",
       "    <tr>\n",
       "      <th>13</th>\n",
       "      <td>27072297</td>\n",
       "      <td>2e8cf41aa723a041</td>\n",
       "      <td>2019-10-31 04:27:23</td>\n",
       "      <td>10</td>\n",
       "    </tr>\n",
       "    <tr>\n",
       "      <th>14</th>\n",
       "      <td>706471</td>\n",
       "      <td>6b82750c0758837f</td>\n",
       "      <td>2019-10-31 04:27:54</td>\n",
       "      <td>10</td>\n",
       "    </tr>\n",
       "  </tbody>\n",
       "</table>\n",
       "</div>"
      ],
      "text/plain": [
       "     user_id                             device_id           event_date  \\\n",
       "0     301766                      555a04204e85a34b  2019-10-31 04:24:36   \n",
       "1    7599993                      341a3dd038c9f962  2019-10-31 04:24:50   \n",
       "2   26828853  463BAFCE-3E8B-499A-8B93-1AD693CC5749  2019-10-31 04:24:54   \n",
       "3     301766                      555a04204e85a34b  2019-10-31 04:25:05   \n",
       "4   20736809                      21c2843aeef5931d  2019-10-31 04:25:07   \n",
       "5    7599993                      341a3dd038c9f962  2019-10-31 04:25:22   \n",
       "6   26828853  463BAFCE-3E8B-499A-8B93-1AD693CC5749  2019-10-31 04:25:31   \n",
       "7   26828853  463BAFCE-3E8B-499A-8B93-1AD693CC5749  2019-10-31 04:25:49   \n",
       "8   26828853  463BAFCE-3E8B-499A-8B93-1AD693CC5749  2019-10-31 04:25:57   \n",
       "9   26828853  463BAFCE-3E8B-499A-8B93-1AD693CC5749  2019-10-31 04:26:37   \n",
       "10  26828853  463BAFCE-3E8B-499A-8B93-1AD693CC5749  2019-10-31 04:26:53   \n",
       "11  27072297                      2e8cf41aa723a041  2019-10-31 04:27:15   \n",
       "12  26828853  463BAFCE-3E8B-499A-8B93-1AD693CC5749  2019-10-31 04:27:16   \n",
       "13  27072297                      2e8cf41aa723a041  2019-10-31 04:27:23   \n",
       "14    706471                      6b82750c0758837f  2019-10-31 04:27:54   \n",
       "\n",
       "    track_id  \n",
       "0         10  \n",
       "1         10  \n",
       "2         10  \n",
       "3         10  \n",
       "4         10  \n",
       "5         10  \n",
       "6         10  \n",
       "7         10  \n",
       "8         10  \n",
       "9         10  \n",
       "10        10  \n",
       "11        10  \n",
       "12        10  \n",
       "13        10  \n",
       "14        10  "
      ]
     },
     "execution_count": 4,
     "metadata": {},
     "output_type": "execute_result"
    }
   ],
   "source": [
    "df = df.drop('Unnamed: 0', 1) # где 1 – номер оси ( 0 для строк и 1 для столбцов).\n",
    "\n",
    "df[:HEAD_ROWS_TO_SHOW]\n",
    " "
   ]
  },
  {
   "cell_type": "markdown",
   "metadata": {},
   "source": [
    "# Analyze of data types"
   ]
  },
  {
   "cell_type": "code",
   "execution_count": 5,
   "metadata": {},
   "outputs": [
    {
     "data": {
      "text/plain": [
       "user_id        int64\n",
       "device_id     object\n",
       "event_date    object\n",
       "track_id       int64\n",
       "dtype: object"
      ]
     },
     "execution_count": 5,
     "metadata": {},
     "output_type": "execute_result"
    }
   ],
   "source": [
    "df.dtypes"
   ]
  },
  {
   "cell_type": "code",
   "execution_count": 6,
   "metadata": {},
   "outputs": [
    {
     "name": "stdout",
     "output_type": "stream",
     "text": [
      "<class 'pandas.core.frame.DataFrame'>\n",
      "RangeIndex: 20528834 entries, 0 to 20528833\n",
      "Data columns (total 4 columns):\n",
      " #   Column      Dtype \n",
      "---  ------      ----- \n",
      " 0   user_id     int64 \n",
      " 1   device_id   object\n",
      " 2   event_date  object\n",
      " 3   track_id    int64 \n",
      "dtypes: int64(2), object(2)\n",
      "memory usage: 626.5+ MB\n"
     ]
    }
   ],
   "source": [
    "df.info()"
   ]
  },
  {
   "cell_type": "code",
   "execution_count": 7,
   "metadata": {},
   "outputs": [
    {
     "data": {
      "text/plain": [
       "(20528834, 4)"
      ]
     },
     "execution_count": 7,
     "metadata": {},
     "output_type": "execute_result"
    }
   ],
   "source": [
    "df.shape"
   ]
  },
  {
   "cell_type": "markdown",
   "metadata": {},
   "source": [
    "# Задание 1: \n",
    "### Какой экран самый популярный у пользователей ?\n",
    "### (кроме главного экрана, track_id = 4)\n",
    "### И сколько пользователей его посетило ? "
   ]
  },
  {
   "cell_type": "code",
   "execution_count": 18,
   "metadata": {},
   "outputs": [
    {
     "data": {
      "text/plain": [
       "4      6617992\n",
       "1      1596700\n",
       "2      1333464\n",
       "10     1294088\n",
       "135    1126620\n",
       "9      1067211\n",
       "6       734236\n",
       "7       660980\n",
       "5       647325\n",
       "210     434089\n",
       "225     369885\n",
       "46      296064\n",
       "34      276643\n",
       "14      270757\n",
       "33      266142\n",
       "Name: track_id, dtype: int64"
      ]
     },
     "execution_count": 18,
     "metadata": {},
     "output_type": "execute_result"
    }
   ],
   "source": [
    "df['track_id'].value_counts()[:HEAD_ROWS_TO_SHOW]\n",
    "\n",
    "# Расшифровка кода:\n",
    "# value_counts(). - позволяет посчитать количество уникальных записей, т.е. кол-во открытий экрана, но не кол-во пользователей;\n",
    "# [:HEAD_ROWS_TO_SHOW] - показывает, сколько значений выводить"
   ]
  },
  {
   "cell_type": "code",
   "execution_count": 9,
   "metadata": {},
   "outputs": [
    {
     "data": {
      "text/plain": [
       "<AxesSubplot:>"
      ]
     },
     "execution_count": 9,
     "metadata": {},
     "output_type": "execute_result"
    },
    {
     "data": {
      "image/png": "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\n",
      "text/plain": [
       "<Figure size 432x288 with 1 Axes>"
      ]
     },
     "metadata": {
      "needs_background": "light"
     },
     "output_type": "display_data"
    }
   ],
   "source": [
    "df[df.track_id != 4]['track_id'].value_counts()[:HEAD_ROWS_TO_SHOW].plot.barh()"
   ]
  },
  {
   "cell_type": "code",
   "execution_count": 11,
   "metadata": {},
   "outputs": [
    {
     "data": {
      "text/html": [
       "<div>\n",
       "<style scoped>\n",
       "    .dataframe tbody tr th:only-of-type {\n",
       "        vertical-align: middle;\n",
       "    }\n",
       "\n",
       "    .dataframe tbody tr th {\n",
       "        vertical-align: top;\n",
       "    }\n",
       "\n",
       "    .dataframe thead th {\n",
       "        text-align: right;\n",
       "    }\n",
       "</style>\n",
       "<table border=\"1\" class=\"dataframe\">\n",
       "  <thead>\n",
       "    <tr style=\"text-align: right;\">\n",
       "      <th></th>\n",
       "      <th>user_id</th>\n",
       "    </tr>\n",
       "    <tr>\n",
       "      <th>track_id</th>\n",
       "      <th></th>\n",
       "    </tr>\n",
       "  </thead>\n",
       "  <tbody>\n",
       "    <tr>\n",
       "      <th>6</th>\n",
       "      <td>197166</td>\n",
       "    </tr>\n",
       "    <tr>\n",
       "      <th>10</th>\n",
       "      <td>140956</td>\n",
       "    </tr>\n",
       "    <tr>\n",
       "      <th>1</th>\n",
       "      <td>129028</td>\n",
       "    </tr>\n",
       "    <tr>\n",
       "      <th>30</th>\n",
       "      <td>104628</td>\n",
       "    </tr>\n",
       "    <tr>\n",
       "      <th>135</th>\n",
       "      <td>102992</td>\n",
       "    </tr>\n",
       "  </tbody>\n",
       "</table>\n",
       "</div>"
      ],
      "text/plain": [
       "          user_id\n",
       "track_id         \n",
       "6          197166\n",
       "10         140956\n",
       "1          129028\n",
       "30         104628\n",
       "135        102992"
      ]
     },
     "execution_count": 11,
     "metadata": {},
     "output_type": "execute_result"
    }
   ],
   "source": [
    "df_group = df[df.track_id != 4].groupby(['track_id'])[['user_id']].nunique() # группировка, сколько уникальных пользователей посетили тот или иной экран;\n",
    "df_group.sort_values(by=['user_id'], ascending=False).head()                 # сортировка от большего к меньшему по числу пользователей."
   ]
  },
  {
   "cell_type": "markdown",
   "metadata": {},
   "source": [
    "# Ответ: 1 экран - самый популярный.\n",
    "# Его посетили 129028 пользователей."
   ]
  },
  {
   "cell_type": "markdown",
   "metadata": {},
   "source": [
    "# _______________________________"
   ]
  },
  {
   "cell_type": "markdown",
   "metadata": {},
   "source": [
    "# Задание 2:"
   ]
  },
  {
   "cell_type": "markdown",
   "metadata": {},
   "source": [
    "### Какая доля пользователей посетила экран тех.поддержки ?\n",
    "### (track_id = 20)"
   ]
  },
  {
   "cell_type": "code",
   "execution_count": 12,
   "metadata": {},
   "outputs": [
    {
     "data": {
      "text/plain": [
       "307736"
      ]
     },
     "execution_count": 12,
     "metadata": {},
     "output_type": "execute_result"
    }
   ],
   "source": [
    "# как узнать сколько всего уникальных пользователей:\n",
    "df['user_id'].nunique()"
   ]
  },
  {
   "cell_type": "code",
   "execution_count": 13,
   "metadata": {},
   "outputs": [
    {
     "data": {
      "text/plain": [
       "46256"
      ]
     },
     "execution_count": 13,
     "metadata": {},
     "output_type": "execute_result"
    }
   ],
   "source": [
    "# как узнать, сколько уникальных пользователей посетило track_id = 20 :\n",
    "\n",
    "# Аналог Where\n",
    "df_filter = df ['track_id']. isin (['20']) \n",
    "# Группировка\n",
    "df [df_filter]['user_id'].nunique()"
   ]
  },
  {
   "cell_type": "code",
   "execution_count": 14,
   "metadata": {},
   "outputs": [
    {
     "data": {
      "text/plain": [
       "0.15031065588686407"
      ]
     },
     "execution_count": 14,
     "metadata": {},
     "output_type": "execute_result"
    }
   ],
   "source": [
    "# Узнаём долю людей, посетивших track_id = 20\n",
    "share_of_users = df [df_filter]['user_id'].nunique() / df['user_id'].nunique()\n",
    "share_of_users "
   ]
  },
  {
   "cell_type": "markdown",
   "metadata": {},
   "source": [
    "# Ответ: 15% людей обратились в тех.поддержку"
   ]
  }
 ],
 "metadata": {
  "kernelspec": {
   "display_name": "Python 3",
   "language": "python",
   "name": "python3"
  },
  "language_info": {
   "codemirror_mode": {
    "name": "ipython",
    "version": 3
   },
   "file_extension": ".py",
   "mimetype": "text/x-python",
   "name": "python",
   "nbconvert_exporter": "python",
   "pygments_lexer": "ipython3",
   "version": "3.8.5"
  }
 },
 "nbformat": 4,
 "nbformat_minor": 4
}
